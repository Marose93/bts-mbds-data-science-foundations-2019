{
 "cells": [
  {
   "cell_type": "markdown",
   "metadata": {
    "colab_type": "text",
    "id": "_a2hajcA99-K"
   },
   "source": [
    "![BTS](https://github.com/vfp1/bts-mbds-data-science-foundations-2019/blob/master/sessions/img/Logo-BTS.jpg?raw=1)\n",
    "\n",
    "# WEEK 2: Assignements\n",
    "\n",
    "### Victor F. Pajuelo Madrigal <victor.pajuelo@bts.tech> - Data Science Foundations (2019-10-10)\n",
    "\n",
    "Open this notebook in Google Colaboratory: [![Open in Colab](https://colab.research.google.com/assets/colab-badge.svg)](https://colab.research.google.com/github/vfp1/bts-mbds-data-science-foundations-2019/blob/master/sessions/DSF_WEEK_2_EXERCISES.ipynb)"
   ]
  },
  {
   "cell_type": "markdown",
   "metadata": {
    "colab_type": "text",
    "id": "HCvH2cLM_1Cq"
   },
   "source": [
    "# Exercise 1: getting around GIT [OPTIONAL]\n",
    "\n",
    "You will be provided with further slides on next Tuesday class (15/10/2019). Meanwhile you can try to do the following:\n",
    "\n",
    "* Create a GitHub account\n",
    "* Fork the [repository](https://github.com/vfp1/bts-mbds-data-science-foundations-2019) from the course\n",
    "* Clone the repository in your own computer using `git clone`\n",
    "* Create a folder within `/sessions` where you will be creating your own notebooks. Since we are using notebooks, it is better that you leave the nootebooks from the course untouched, and that you rather create a copy of them in the  `/sessions` folder where you can edit them. Trust me, it will save you a lot of **merge conflict** problems.\n",
    "* Sync your fork to the remote origin (the original repo of the course) so you can update it with the new notebooks that I will be adding. Follow [this tutorial](https://help.github.com/en/articles/syncing-a-fork).\n",
    "* Return this exercise by commiting the whole notebook in your own git and pass the url to me"
   ]
  },
  {
   "cell_type": "markdown",
   "metadata": {
    "colab_type": "text",
    "id": "XrA3YsGkQVY4"
   },
   "source": [
    "# Exercise 2: more bikes [OBLIGATORY]\n",
    "\n",
    "Given [this](https://github.com/vfp1/bts-mbds-data-science-foundations-2019/raw/master/sessions/data/Fremont_Bridge_Hourly_Bicycle_Counts_by_Month_October_2012_to_present.csv) dataset:\n",
    "\n",
    "* Open the dataset using Pandas\n",
    "* Display the DataFrame\n",
    "* Describe the DataFrame, can we already see some trends in regards to volume of bikes per region?\n",
    "* Reply to the following questions (either by plotting the graph and summarizing the values):\n",
    "\n",
    "    * In each one of the years from the dataset. Which is the month with the highest number of bikes?\n",
    "        * Plot each year with the number of bikes to also see it visually.\n",
    "    * In Total, when are the hours with the least amount of riders? Take into consideration all days of the week.\n",
    "        * Plot the hours with the average amount of riders.\n",
    "    * In the current year, which is the best route to bike with less people? Use the average of bikers during the whole year.\n",
    "        * Plot the bikers per hour using yearly average\n",
    "        * When is best to ride with less people between 10 to 15 in weekdays using the average of 2019?\n",
    "        * Plot the amount of bikers during those hours on weekdays"
   ]
  },
  {
   "cell_type": "code",
   "execution_count": 10,
   "metadata": {},
   "outputs": [
    {
     "name": "stdout",
     "output_type": "stream",
     "text": [
      "(61296, 2)\n"
     ]
    },
    {
     "data": {
      "text/html": [
       "<div>\n",
       "<style scoped>\n",
       "    .dataframe tbody tr th:only-of-type {\n",
       "        vertical-align: middle;\n",
       "    }\n",
       "\n",
       "    .dataframe tbody tr th {\n",
       "        vertical-align: top;\n",
       "    }\n",
       "\n",
       "    .dataframe thead th {\n",
       "        text-align: right;\n",
       "    }\n",
       "</style>\n",
       "<table border=\"1\" class=\"dataframe\">\n",
       "  <thead>\n",
       "    <tr style=\"text-align: right;\">\n",
       "      <th></th>\n",
       "      <th>Fremont Bridge East Sidewalk</th>\n",
       "      <th>Fremont Bridge West Sidewalk</th>\n",
       "    </tr>\n",
       "    <tr>\n",
       "      <th>Date</th>\n",
       "      <th></th>\n",
       "      <th></th>\n",
       "    </tr>\n",
       "  </thead>\n",
       "  <tbody>\n",
       "    <tr>\n",
       "      <td>2015-02-24 02:00:00</td>\n",
       "      <td>3.0</td>\n",
       "      <td>3.0</td>\n",
       "    </tr>\n",
       "    <tr>\n",
       "      <td>2019-01-01 00:00:00</td>\n",
       "      <td>0.0</td>\n",
       "      <td>9.0</td>\n",
       "    </tr>\n",
       "    <tr>\n",
       "      <td>2019-01-01 01:00:00</td>\n",
       "      <td>2.0</td>\n",
       "      <td>22.0</td>\n",
       "    </tr>\n",
       "    <tr>\n",
       "      <td>2016-02-15 00:00:00</td>\n",
       "      <td>3.0</td>\n",
       "      <td>3.0</td>\n",
       "    </tr>\n",
       "    <tr>\n",
       "      <td>2019-01-01 02:00:00</td>\n",
       "      <td>1.0</td>\n",
       "      <td>11.0</td>\n",
       "    </tr>\n",
       "    <tr>\n",
       "      <td>2019-01-01 03:00:00</td>\n",
       "      <td>1.0</td>\n",
       "      <td>2.0</td>\n",
       "    </tr>\n",
       "    <tr>\n",
       "      <td>2019-01-01 04:00:00</td>\n",
       "      <td>2.0</td>\n",
       "      <td>1.0</td>\n",
       "    </tr>\n",
       "    <tr>\n",
       "      <td>2019-01-01 05:00:00</td>\n",
       "      <td>3.0</td>\n",
       "      <td>1.0</td>\n",
       "    </tr>\n",
       "    <tr>\n",
       "      <td>2019-01-01 06:00:00</td>\n",
       "      <td>4.0</td>\n",
       "      <td>7.0</td>\n",
       "    </tr>\n",
       "    <tr>\n",
       "      <td>2019-01-01 07:00:00</td>\n",
       "      <td>1.0</td>\n",
       "      <td>2.0</td>\n",
       "    </tr>\n",
       "  </tbody>\n",
       "</table>\n",
       "</div>"
      ],
      "text/plain": [
       "                     Fremont Bridge East Sidewalk  \\\n",
       "Date                                                \n",
       "2015-02-24 02:00:00                           3.0   \n",
       "2019-01-01 00:00:00                           0.0   \n",
       "2019-01-01 01:00:00                           2.0   \n",
       "2016-02-15 00:00:00                           3.0   \n",
       "2019-01-01 02:00:00                           1.0   \n",
       "2019-01-01 03:00:00                           1.0   \n",
       "2019-01-01 04:00:00                           2.0   \n",
       "2019-01-01 05:00:00                           3.0   \n",
       "2019-01-01 06:00:00                           4.0   \n",
       "2019-01-01 07:00:00                           1.0   \n",
       "\n",
       "                     Fremont Bridge West Sidewalk  \n",
       "Date                                               \n",
       "2015-02-24 02:00:00                           3.0  \n",
       "2019-01-01 00:00:00                           9.0  \n",
       "2019-01-01 01:00:00                          22.0  \n",
       "2016-02-15 00:00:00                           3.0  \n",
       "2019-01-01 02:00:00                          11.0  \n",
       "2019-01-01 03:00:00                           2.0  \n",
       "2019-01-01 04:00:00                           1.0  \n",
       "2019-01-01 05:00:00                           1.0  \n",
       "2019-01-01 06:00:00                           7.0  \n",
       "2019-01-01 07:00:00                           2.0  "
      ]
     },
     "execution_count": 10,
     "metadata": {},
     "output_type": "execute_result"
    }
   ],
   "source": [
    "import pandas as pd\n",
    "\n",
    "bikes = pd.read_csv('https://raw.githubusercontent.com/vfp1/bts-mbds-data-science-foundations-2019/master/sessions/data/Fremont_Bridge_Hourly_Bicycle_Counts_by_Month_October_2012_to_present.csv', sep=',', index_col='Date', parse_dates=True)\n",
    "print(bikes.shape)\n",
    "bikes.head(10)\n"
   ]
  },
  {
   "cell_type": "code",
   "execution_count": 14,
   "metadata": {},
   "outputs": [],
   "source": [
    "bikes.columns = ['East', 'West']\n",
    "bikes['Total'] = bikes.eval('East + West')"
   ]
  },
  {
   "cell_type": "code",
   "execution_count": 15,
   "metadata": {},
   "outputs": [
    {
     "data": {
      "text/html": [
       "<div>\n",
       "<style scoped>\n",
       "    .dataframe tbody tr th:only-of-type {\n",
       "        vertical-align: middle;\n",
       "    }\n",
       "\n",
       "    .dataframe tbody tr th {\n",
       "        vertical-align: top;\n",
       "    }\n",
       "\n",
       "    .dataframe thead th {\n",
       "        text-align: right;\n",
       "    }\n",
       "</style>\n",
       "<table border=\"1\" class=\"dataframe\">\n",
       "  <thead>\n",
       "    <tr style=\"text-align: right;\">\n",
       "      <th></th>\n",
       "      <th>East</th>\n",
       "      <th>West</th>\n",
       "      <th>Total</th>\n",
       "    </tr>\n",
       "  </thead>\n",
       "  <tbody>\n",
       "    <tr>\n",
       "      <td>count</td>\n",
       "      <td>61287.000000</td>\n",
       "      <td>61287.000000</td>\n",
       "      <td>61287.000000</td>\n",
       "    </tr>\n",
       "    <tr>\n",
       "      <td>mean</td>\n",
       "      <td>52.894790</td>\n",
       "      <td>61.444874</td>\n",
       "      <td>114.339664</td>\n",
       "    </tr>\n",
       "    <tr>\n",
       "      <td>std</td>\n",
       "      <td>67.815951</td>\n",
       "      <td>89.875981</td>\n",
       "      <td>145.211368</td>\n",
       "    </tr>\n",
       "    <tr>\n",
       "      <td>min</td>\n",
       "      <td>0.000000</td>\n",
       "      <td>0.000000</td>\n",
       "      <td>0.000000</td>\n",
       "    </tr>\n",
       "    <tr>\n",
       "      <td>25%</td>\n",
       "      <td>7.000000</td>\n",
       "      <td>7.000000</td>\n",
       "      <td>15.000000</td>\n",
       "    </tr>\n",
       "    <tr>\n",
       "      <td>50%</td>\n",
       "      <td>29.000000</td>\n",
       "      <td>30.000000</td>\n",
       "      <td>62.000000</td>\n",
       "    </tr>\n",
       "    <tr>\n",
       "      <td>75%</td>\n",
       "      <td>71.000000</td>\n",
       "      <td>74.000000</td>\n",
       "      <td>150.000000</td>\n",
       "    </tr>\n",
       "    <tr>\n",
       "      <td>max</td>\n",
       "      <td>698.000000</td>\n",
       "      <td>850.000000</td>\n",
       "      <td>1097.000000</td>\n",
       "    </tr>\n",
       "  </tbody>\n",
       "</table>\n",
       "</div>"
      ],
      "text/plain": [
       "               East          West         Total\n",
       "count  61287.000000  61287.000000  61287.000000\n",
       "mean      52.894790     61.444874    114.339664\n",
       "std       67.815951     89.875981    145.211368\n",
       "min        0.000000      0.000000      0.000000\n",
       "25%        7.000000      7.000000     15.000000\n",
       "50%       29.000000     30.000000     62.000000\n",
       "75%       71.000000     74.000000    150.000000\n",
       "max      698.000000    850.000000   1097.000000"
      ]
     },
     "execution_count": 15,
     "metadata": {},
     "output_type": "execute_result"
    }
   ],
   "source": [
    "bikes.describe()"
   ]
  },
  {
   "cell_type": "markdown",
   "metadata": {},
   "source": [
    "In genereal, it seems that on the west side there are more bikes per day as the mean is higher. Also, the quartiles, medium and max are higher."
   ]
  },
  {
   "cell_type": "code",
   "execution_count": 45,
   "metadata": {},
   "outputs": [
    {
     "data": {
      "text/html": [
       "<div>\n",
       "<style scoped>\n",
       "    .dataframe tbody tr th:only-of-type {\n",
       "        vertical-align: middle;\n",
       "    }\n",
       "\n",
       "    .dataframe tbody tr th {\n",
       "        vertical-align: top;\n",
       "    }\n",
       "\n",
       "    .dataframe thead th {\n",
       "        text-align: right;\n",
       "    }\n",
       "</style>\n",
       "<table border=\"1\" class=\"dataframe\">\n",
       "  <thead>\n",
       "    <tr style=\"text-align: right;\">\n",
       "      <th></th>\n",
       "      <th></th>\n",
       "      <th>East</th>\n",
       "      <th>West</th>\n",
       "      <th>Total</th>\n",
       "    </tr>\n",
       "    <tr>\n",
       "      <th>Year</th>\n",
       "      <th>Month</th>\n",
       "      <th></th>\n",
       "      <th></th>\n",
       "      <th></th>\n",
       "    </tr>\n",
       "  </thead>\n",
       "  <tbody>\n",
       "    <tr>\n",
       "      <td rowspan=\"3\" valign=\"top\">2012</td>\n",
       "      <td>10</td>\n",
       "      <td>48.511494</td>\n",
       "      <td>45.877874</td>\n",
       "      <td>94.389368</td>\n",
       "    </tr>\n",
       "    <tr>\n",
       "      <td>11</td>\n",
       "      <td>36.197222</td>\n",
       "      <td>34.145833</td>\n",
       "      <td>70.343056</td>\n",
       "    </tr>\n",
       "    <tr>\n",
       "      <td>12</td>\n",
       "      <td>25.010753</td>\n",
       "      <td>23.872312</td>\n",
       "      <td>48.883065</td>\n",
       "    </tr>\n",
       "    <tr>\n",
       "      <td rowspan=\"2\" valign=\"top\">2013</td>\n",
       "      <td>1</td>\n",
       "      <td>30.793011</td>\n",
       "      <td>29.534946</td>\n",
       "      <td>60.327957</td>\n",
       "    </tr>\n",
       "    <tr>\n",
       "      <td>2</td>\n",
       "      <td>38.538690</td>\n",
       "      <td>35.906250</td>\n",
       "      <td>74.444940</td>\n",
       "    </tr>\n",
       "  </tbody>\n",
       "</table>\n",
       "</div>"
      ],
      "text/plain": [
       "                 East       West      Total\n",
       "Year Month                                 \n",
       "2012 10     48.511494  45.877874  94.389368\n",
       "     11     36.197222  34.145833  70.343056\n",
       "     12     25.010753  23.872312  48.883065\n",
       "2013 1      30.793011  29.534946  60.327957\n",
       "     2      38.538690  35.906250  74.444940"
      ]
     },
     "execution_count": 45,
     "metadata": {},
     "output_type": "execute_result"
    }
   ],
   "source": [
    "highest_year = bikes.groupby([(bikes.index.year),(bikes.index.month)]).mean()\n",
    "highest_year.index.names = ['Year','Month']\n",
    "highest_year.head()"
   ]
  },
  {
   "cell_type": "code",
   "execution_count": 48,
   "metadata": {},
   "outputs": [
    {
     "data": {
      "text/html": [
       "<div>\n",
       "<style scoped>\n",
       "    .dataframe tbody tr th:only-of-type {\n",
       "        vertical-align: middle;\n",
       "    }\n",
       "\n",
       "    .dataframe tbody tr th {\n",
       "        vertical-align: top;\n",
       "    }\n",
       "\n",
       "    .dataframe thead th {\n",
       "        text-align: right;\n",
       "    }\n",
       "</style>\n",
       "<table border=\"1\" class=\"dataframe\">\n",
       "  <thead>\n",
       "    <tr style=\"text-align: right;\">\n",
       "      <th></th>\n",
       "      <th></th>\n",
       "      <th>East</th>\n",
       "      <th>West</th>\n",
       "      <th>Total</th>\n",
       "    </tr>\n",
       "    <tr>\n",
       "      <th>Year</th>\n",
       "      <th>Month</th>\n",
       "      <th></th>\n",
       "      <th></th>\n",
       "      <th></th>\n",
       "    </tr>\n",
       "  </thead>\n",
       "  <tbody>\n",
       "    <tr>\n",
       "      <td rowspan=\"5\" valign=\"top\">2019</td>\n",
       "      <td>8</td>\n",
       "      <td>70.483871</td>\n",
       "      <td>120.932796</td>\n",
       "      <td>191.416667</td>\n",
       "    </tr>\n",
       "    <tr>\n",
       "      <td>7</td>\n",
       "      <td>71.459677</td>\n",
       "      <td>113.639785</td>\n",
       "      <td>185.099462</td>\n",
       "    </tr>\n",
       "    <tr>\n",
       "      <td>6</td>\n",
       "      <td>72.188889</td>\n",
       "      <td>111.855556</td>\n",
       "      <td>184.044444</td>\n",
       "    </tr>\n",
       "    <tr>\n",
       "      <td>5</td>\n",
       "      <td>69.272849</td>\n",
       "      <td>104.279570</td>\n",
       "      <td>173.552419</td>\n",
       "    </tr>\n",
       "    <tr>\n",
       "      <td>9</td>\n",
       "      <td>57.568056</td>\n",
       "      <td>98.229167</td>\n",
       "      <td>155.797222</td>\n",
       "    </tr>\n",
       "    <tr>\n",
       "      <td>...</td>\n",
       "      <td>...</td>\n",
       "      <td>...</td>\n",
       "      <td>...</td>\n",
       "      <td>...</td>\n",
       "    </tr>\n",
       "    <tr>\n",
       "      <td rowspan=\"2\" valign=\"top\">2013</td>\n",
       "      <td>1</td>\n",
       "      <td>30.793011</td>\n",
       "      <td>29.534946</td>\n",
       "      <td>60.327957</td>\n",
       "    </tr>\n",
       "    <tr>\n",
       "      <td>12</td>\n",
       "      <td>30.344086</td>\n",
       "      <td>28.194892</td>\n",
       "      <td>58.538978</td>\n",
       "    </tr>\n",
       "    <tr>\n",
       "      <td rowspan=\"3\" valign=\"top\">2012</td>\n",
       "      <td>10</td>\n",
       "      <td>48.511494</td>\n",
       "      <td>45.877874</td>\n",
       "      <td>94.389368</td>\n",
       "    </tr>\n",
       "    <tr>\n",
       "      <td>11</td>\n",
       "      <td>36.197222</td>\n",
       "      <td>34.145833</td>\n",
       "      <td>70.343056</td>\n",
       "    </tr>\n",
       "    <tr>\n",
       "      <td>12</td>\n",
       "      <td>25.010753</td>\n",
       "      <td>23.872312</td>\n",
       "      <td>48.883065</td>\n",
       "    </tr>\n",
       "  </tbody>\n",
       "</table>\n",
       "<p>84 rows × 3 columns</p>\n",
       "</div>"
      ],
      "text/plain": [
       "                 East        West       Total\n",
       "Year Month                                   \n",
       "2019 8      70.483871  120.932796  191.416667\n",
       "     7      71.459677  113.639785  185.099462\n",
       "     6      72.188889  111.855556  184.044444\n",
       "     5      69.272849  104.279570  173.552419\n",
       "     9      57.568056   98.229167  155.797222\n",
       "...               ...         ...         ...\n",
       "2013 1      30.793011   29.534946   60.327957\n",
       "     12     30.344086   28.194892   58.538978\n",
       "2012 10     48.511494   45.877874   94.389368\n",
       "     11     36.197222   34.145833   70.343056\n",
       "     12     25.010753   23.872312   48.883065\n",
       "\n",
       "[84 rows x 3 columns]"
      ]
     },
     "execution_count": 48,
     "metadata": {},
     "output_type": "execute_result"
    }
   ],
   "source": [
    "highest_year.sort_values(by=['Year', 'Total'], ascending=False)"
   ]
  },
  {
   "cell_type": "code",
   "execution_count": 53,
   "metadata": {},
   "outputs": [
    {
     "data": {
      "text/html": [
       "<div>\n",
       "<style scoped>\n",
       "    .dataframe tbody tr th:only-of-type {\n",
       "        vertical-align: middle;\n",
       "    }\n",
       "\n",
       "    .dataframe tbody tr th {\n",
       "        vertical-align: top;\n",
       "    }\n",
       "\n",
       "    .dataframe thead th {\n",
       "        text-align: right;\n",
       "    }\n",
       "</style>\n",
       "<table border=\"1\" class=\"dataframe\">\n",
       "  <thead>\n",
       "    <tr style=\"text-align: right;\">\n",
       "      <th></th>\n",
       "      <th></th>\n",
       "      <th>East</th>\n",
       "      <th>West</th>\n",
       "      <th>Total</th>\n",
       "    </tr>\n",
       "    <tr>\n",
       "      <th>Year</th>\n",
       "      <th>Month</th>\n",
       "      <th></th>\n",
       "      <th></th>\n",
       "      <th></th>\n",
       "    </tr>\n",
       "  </thead>\n",
       "  <tbody>\n",
       "    <tr>\n",
       "      <td>2012</td>\n",
       "      <td>10</td>\n",
       "      <td>48.511494</td>\n",
       "      <td>45.877874</td>\n",
       "      <td>94.389368</td>\n",
       "    </tr>\n",
       "    <tr>\n",
       "      <td>2013</td>\n",
       "      <td>7</td>\n",
       "      <td>80.662634</td>\n",
       "      <td>77.904570</td>\n",
       "      <td>158.567204</td>\n",
       "    </tr>\n",
       "    <tr>\n",
       "      <td>2014</td>\n",
       "      <td>7</td>\n",
       "      <td>82.217742</td>\n",
       "      <td>79.971774</td>\n",
       "      <td>162.189516</td>\n",
       "    </tr>\n",
       "    <tr>\n",
       "      <td>2015</td>\n",
       "      <td>6</td>\n",
       "      <td>79.272222</td>\n",
       "      <td>78.668056</td>\n",
       "      <td>157.940278</td>\n",
       "    </tr>\n",
       "    <tr>\n",
       "      <td>2016</td>\n",
       "      <td>5</td>\n",
       "      <td>76.068548</td>\n",
       "      <td>77.370968</td>\n",
       "      <td>153.439516</td>\n",
       "    </tr>\n",
       "    <tr>\n",
       "      <td>2017</td>\n",
       "      <td>8</td>\n",
       "      <td>66.891129</td>\n",
       "      <td>94.651882</td>\n",
       "      <td>161.543011</td>\n",
       "    </tr>\n",
       "    <tr>\n",
       "      <td>2018</td>\n",
       "      <td>5</td>\n",
       "      <td>72.836022</td>\n",
       "      <td>101.643817</td>\n",
       "      <td>174.479839</td>\n",
       "    </tr>\n",
       "    <tr>\n",
       "      <td>2019</td>\n",
       "      <td>8</td>\n",
       "      <td>70.483871</td>\n",
       "      <td>120.932796</td>\n",
       "      <td>191.416667</td>\n",
       "    </tr>\n",
       "  </tbody>\n",
       "</table>\n",
       "</div>"
      ],
      "text/plain": [
       "                 East        West       Total\n",
       "Year Month                                   \n",
       "2012 10     48.511494   45.877874   94.389368\n",
       "2013 7      80.662634   77.904570  158.567204\n",
       "2014 7      82.217742   79.971774  162.189516\n",
       "2015 6      79.272222   78.668056  157.940278\n",
       "2016 5      76.068548   77.370968  153.439516\n",
       "2017 8      66.891129   94.651882  161.543011\n",
       "2018 5      72.836022  101.643817  174.479839\n",
       "2019 8      70.483871  120.932796  191.416667"
      ]
     },
     "execution_count": 53,
     "metadata": {},
     "output_type": "execute_result"
    }
   ],
   "source": [
    "final_highest_year = highest_year.loc[highest_year.groupby(\"Year\")[\"Total\"].idxmax()]\n",
    "final_highest_year"
   ]
  },
  {
   "cell_type": "code",
   "execution_count": 66,
   "metadata": {},
   "outputs": [
    {
     "data": {
      "text/plain": [
       "<matplotlib.axes._subplots.AxesSubplot at 0x11c9e9f60>"
      ]
     },
     "execution_count": 66,
     "metadata": {},
     "output_type": "execute_result"
    },
    {
     "data": {
      "image/png": "[encoded data removed]",
      "text/plain": [
       "<Figure size 432x288 with 1 Axes>"
      ]
     },
     "metadata": {
      "needs_background": "light"
     },
     "output_type": "display_data"
    }
   ],
   "source": [
    "import numpy as np\n",
    "import pandas as pd\n",
    "import matplotlib.pyplot as plt\n",
    "\n",
    "final_highest_year.Total.plot.line()"
   ]
  },
  {
   "cell_type": "code",
   "execution_count": 65,
   "metadata": {},
   "outputs": [
    {
     "data": {
      "text/plain": [
       "numpy.ndarray"
      ]
     },
     "execution_count": 65,
     "metadata": {},
     "output_type": "execute_result"
    },
    {
     "data": {
      "image/png": "[encoded data removed]",
      "text/plain": [
       "<Figure size 432x288 with 3 Axes>"
      ]
     },
     "metadata": {
      "needs_background": "light"
     },
     "output_type": "display_data"
    }
   ],
   "source": [
    "axes = final_highest_year.plot.line(subplots=True)\n",
    "type(axes)"
   ]
  },
  {
   "cell_type": "markdown",
   "metadata": {},
   "source": []
  },
  {
   "cell_type": "code",
   "execution_count": 69,
   "metadata": {},
   "outputs": [
    {
     "data": {
      "text/html": [
       "<div>\n",
       "<style scoped>\n",
       "    .dataframe tbody tr th:only-of-type {\n",
       "        vertical-align: middle;\n",
       "    }\n",
       "\n",
       "    .dataframe tbody tr th {\n",
       "        vertical-align: top;\n",
       "    }\n",
       "\n",
       "    .dataframe thead th {\n",
       "        text-align: right;\n",
       "    }\n",
       "</style>\n",
       "<table border=\"1\" class=\"dataframe\">\n",
       "  <thead>\n",
       "    <tr style=\"text-align: right;\">\n",
       "      <th></th>\n",
       "      <th>East</th>\n",
       "      <th>West</th>\n",
       "      <th>Total</th>\n",
       "    </tr>\n",
       "    <tr>\n",
       "      <th>Date</th>\n",
       "      <th></th>\n",
       "      <th></th>\n",
       "      <th></th>\n",
       "    </tr>\n",
       "  </thead>\n",
       "  <tbody>\n",
       "    <tr>\n",
       "      <td>0</td>\n",
       "      <td>5.054816</td>\n",
       "      <td>6.795223</td>\n",
       "      <td>11.850039</td>\n",
       "    </tr>\n",
       "    <tr>\n",
       "      <td>1</td>\n",
       "      <td>2.825764</td>\n",
       "      <td>3.447925</td>\n",
       "      <td>6.273688</td>\n",
       "    </tr>\n",
       "    <tr>\n",
       "      <td>2</td>\n",
       "      <td>2.003923</td>\n",
       "      <td>2.125539</td>\n",
       "      <td>4.129463</td>\n",
       "    </tr>\n",
       "    <tr>\n",
       "      <td>3</td>\n",
       "      <td>1.567737</td>\n",
       "      <td>1.469851</td>\n",
       "      <td>3.037588</td>\n",
       "    </tr>\n",
       "    <tr>\n",
       "      <td>4</td>\n",
       "      <td>3.551292</td>\n",
       "      <td>3.142913</td>\n",
       "      <td>6.694205</td>\n",
       "    </tr>\n",
       "    <tr>\n",
       "      <td>5</td>\n",
       "      <td>16.352388</td>\n",
       "      <td>10.074393</td>\n",
       "      <td>26.426782</td>\n",
       "    </tr>\n",
       "    <tr>\n",
       "      <td>6</td>\n",
       "      <td>56.413469</td>\n",
       "      <td>36.033673</td>\n",
       "      <td>92.447142</td>\n",
       "    </tr>\n",
       "    <tr>\n",
       "      <td>7</td>\n",
       "      <td>147.527408</td>\n",
       "      <td>85.638998</td>\n",
       "      <td>233.166406</td>\n",
       "    </tr>\n",
       "    <tr>\n",
       "      <td>8</td>\n",
       "      <td>198.488254</td>\n",
       "      <td>131.081441</td>\n",
       "      <td>329.569695</td>\n",
       "    </tr>\n",
       "    <tr>\n",
       "      <td>9</td>\n",
       "      <td>106.688210</td>\n",
       "      <td>85.665492</td>\n",
       "      <td>192.353702</td>\n",
       "    </tr>\n",
       "    <tr>\n",
       "      <td>10</td>\n",
       "      <td>53.618880</td>\n",
       "      <td>47.167646</td>\n",
       "      <td>100.786526</td>\n",
       "    </tr>\n",
       "    <tr>\n",
       "      <td>11</td>\n",
       "      <td>46.444967</td>\n",
       "      <td>42.235801</td>\n",
       "      <td>88.680768</td>\n",
       "    </tr>\n",
       "    <tr>\n",
       "      <td>12</td>\n",
       "      <td>48.132002</td>\n",
       "      <td>45.685076</td>\n",
       "      <td>93.817078</td>\n",
       "    </tr>\n",
       "    <tr>\n",
       "      <td>13</td>\n",
       "      <td>50.407596</td>\n",
       "      <td>49.654268</td>\n",
       "      <td>100.061864</td>\n",
       "    </tr>\n",
       "    <tr>\n",
       "      <td>14</td>\n",
       "      <td>52.367267</td>\n",
       "      <td>56.210258</td>\n",
       "      <td>108.577525</td>\n",
       "    </tr>\n",
       "    <tr>\n",
       "      <td>15</td>\n",
       "      <td>61.866484</td>\n",
       "      <td>76.589272</td>\n",
       "      <td>138.455756</td>\n",
       "    </tr>\n",
       "    <tr>\n",
       "      <td>16</td>\n",
       "      <td>83.598277</td>\n",
       "      <td>147.673062</td>\n",
       "      <td>231.271339</td>\n",
       "    </tr>\n",
       "    <tr>\n",
       "      <td>17</td>\n",
       "      <td>114.570869</td>\n",
       "      <td>279.942835</td>\n",
       "      <td>394.513704</td>\n",
       "    </tr>\n",
       "    <tr>\n",
       "      <td>18</td>\n",
       "      <td>91.609632</td>\n",
       "      <td>178.035239</td>\n",
       "      <td>269.644871</td>\n",
       "    </tr>\n",
       "    <tr>\n",
       "      <td>19</td>\n",
       "      <td>50.561081</td>\n",
       "      <td>82.050901</td>\n",
       "      <td>132.611981</td>\n",
       "    </tr>\n",
       "    <tr>\n",
       "      <td>20</td>\n",
       "      <td>31.303446</td>\n",
       "      <td>45.308144</td>\n",
       "      <td>76.611590</td>\n",
       "    </tr>\n",
       "    <tr>\n",
       "      <td>21</td>\n",
       "      <td>21.606108</td>\n",
       "      <td>27.526233</td>\n",
       "      <td>49.132341</td>\n",
       "    </tr>\n",
       "    <tr>\n",
       "      <td>22</td>\n",
       "      <td>14.025842</td>\n",
       "      <td>18.394675</td>\n",
       "      <td>32.420517</td>\n",
       "    </tr>\n",
       "    <tr>\n",
       "      <td>23</td>\n",
       "      <td>8.806578</td>\n",
       "      <td>12.602193</td>\n",
       "      <td>21.408771</td>\n",
       "    </tr>\n",
       "  </tbody>\n",
       "</table>\n",
       "</div>"
      ],
      "text/plain": [
       "            East        West       Total\n",
       "Date                                    \n",
       "0       5.054816    6.795223   11.850039\n",
       "1       2.825764    3.447925    6.273688\n",
       "2       2.003923    2.125539    4.129463\n",
       "3       1.567737    1.469851    3.037588\n",
       "4       3.551292    3.142913    6.694205\n",
       "5      16.352388   10.074393   26.426782\n",
       "6      56.413469   36.033673   92.447142\n",
       "7     147.527408   85.638998  233.166406\n",
       "8     198.488254  131.081441  329.569695\n",
       "9     106.688210   85.665492  192.353702\n",
       "10     53.618880   47.167646  100.786526\n",
       "11     46.444967   42.235801   88.680768\n",
       "12     48.132002   45.685076   93.817078\n",
       "13     50.407596   49.654268  100.061864\n",
       "14     52.367267   56.210258  108.577525\n",
       "15     61.866484   76.589272  138.455756\n",
       "16     83.598277  147.673062  231.271339\n",
       "17    114.570869  279.942835  394.513704\n",
       "18     91.609632  178.035239  269.644871\n",
       "19     50.561081   82.050901  132.611981\n",
       "20     31.303446   45.308144   76.611590\n",
       "21     21.606108   27.526233   49.132341\n",
       "22     14.025842   18.394675   32.420517\n",
       "23      8.806578   12.602193   21.408771"
      ]
     },
     "execution_count": 69,
     "metadata": {},
     "output_type": "execute_result"
    }
   ],
   "source": [
    "peak_hour = bikes.groupby([(bikes.index.hour)]).mean()\n",
    "peak_hour"
   ]
  },
  {
   "cell_type": "code",
   "execution_count": 71,
   "metadata": {},
   "outputs": [
    {
     "data": {
      "text/plain": [
       "<matplotlib.axes._subplots.AxesSubplot at 0x11d11e080>"
      ]
     },
     "execution_count": 71,
     "metadata": {},
     "output_type": "execute_result"
    },
    {
     "data": {
      "image/png": "[encoded data removed]",
      "text/plain": [
       "<Figure size 432x288 with 1 Axes>"
      ]
     },
     "metadata": {
      "needs_background": "light"
     },
     "output_type": "display_data"
    }
   ],
   "source": [
    "peak_hour.Total.plot.line()"
   ]
  },
  {
   "cell_type": "code",
   "execution_count": 75,
   "metadata": {},
   "outputs": [
    {
     "data": {
      "text/html": [
       "<div>\n",
       "<style scoped>\n",
       "    .dataframe tbody tr th:only-of-type {\n",
       "        vertical-align: middle;\n",
       "    }\n",
       "\n",
       "    .dataframe tbody tr th {\n",
       "        vertical-align: top;\n",
       "    }\n",
       "\n",
       "    .dataframe thead th {\n",
       "        text-align: right;\n",
       "    }\n",
       "</style>\n",
       "<table border=\"1\" class=\"dataframe\">\n",
       "  <thead>\n",
       "    <tr style=\"text-align: right;\">\n",
       "      <th></th>\n",
       "      <th></th>\n",
       "      <th>East</th>\n",
       "      <th>West</th>\n",
       "      <th>Total</th>\n",
       "    </tr>\n",
       "    <tr>\n",
       "      <th>Year</th>\n",
       "      <th>Hour</th>\n",
       "      <th></th>\n",
       "      <th></th>\n",
       "      <th></th>\n",
       "    </tr>\n",
       "  </thead>\n",
       "  <tbody>\n",
       "    <tr>\n",
       "      <td rowspan=\"5\" valign=\"top\">2012</td>\n",
       "      <td>0</td>\n",
       "      <td>4.500000</td>\n",
       "      <td>4.966667</td>\n",
       "      <td>9.466667</td>\n",
       "    </tr>\n",
       "    <tr>\n",
       "      <td>1</td>\n",
       "      <td>2.922222</td>\n",
       "      <td>2.722222</td>\n",
       "      <td>5.644444</td>\n",
       "    </tr>\n",
       "    <tr>\n",
       "      <td>2</td>\n",
       "      <td>2.722222</td>\n",
       "      <td>1.888889</td>\n",
       "      <td>4.611111</td>\n",
       "    </tr>\n",
       "    <tr>\n",
       "      <td>3</td>\n",
       "      <td>1.211111</td>\n",
       "      <td>1.666667</td>\n",
       "      <td>2.877778</td>\n",
       "    </tr>\n",
       "    <tr>\n",
       "      <td>4</td>\n",
       "      <td>3.711111</td>\n",
       "      <td>2.088889</td>\n",
       "      <td>5.800000</td>\n",
       "    </tr>\n",
       "    <tr>\n",
       "      <td>...</td>\n",
       "      <td>...</td>\n",
       "      <td>...</td>\n",
       "      <td>...</td>\n",
       "      <td>...</td>\n",
       "    </tr>\n",
       "    <tr>\n",
       "      <td rowspan=\"5\" valign=\"top\">2019</td>\n",
       "      <td>19</td>\n",
       "      <td>56.271062</td>\n",
       "      <td>102.919414</td>\n",
       "      <td>159.190476</td>\n",
       "    </tr>\n",
       "    <tr>\n",
       "      <td>20</td>\n",
       "      <td>35.871795</td>\n",
       "      <td>56.029304</td>\n",
       "      <td>91.901099</td>\n",
       "    </tr>\n",
       "    <tr>\n",
       "      <td>21</td>\n",
       "      <td>25.930403</td>\n",
       "      <td>33.362637</td>\n",
       "      <td>59.293040</td>\n",
       "    </tr>\n",
       "    <tr>\n",
       "      <td>22</td>\n",
       "      <td>14.648352</td>\n",
       "      <td>22.047619</td>\n",
       "      <td>36.695971</td>\n",
       "    </tr>\n",
       "    <tr>\n",
       "      <td>23</td>\n",
       "      <td>8.626374</td>\n",
       "      <td>14.439560</td>\n",
       "      <td>23.065934</td>\n",
       "    </tr>\n",
       "  </tbody>\n",
       "</table>\n",
       "<p>192 rows × 3 columns</p>\n",
       "</div>"
      ],
      "text/plain": [
       "                East        West       Total\n",
       "Year Hour                                   \n",
       "2012 0      4.500000    4.966667    9.466667\n",
       "     1      2.922222    2.722222    5.644444\n",
       "     2      2.722222    1.888889    4.611111\n",
       "     3      1.211111    1.666667    2.877778\n",
       "     4      3.711111    2.088889    5.800000\n",
       "...              ...         ...         ...\n",
       "2019 19    56.271062  102.919414  159.190476\n",
       "     20    35.871795   56.029304   91.901099\n",
       "     21    25.930403   33.362637   59.293040\n",
       "     22    14.648352   22.047619   36.695971\n",
       "     23     8.626374   14.439560   23.065934\n",
       "\n",
       "[192 rows x 3 columns]"
      ]
     },
     "execution_count": 75,
     "metadata": {},
     "output_type": "execute_result"
    }
   ],
   "source": [
    "highest_hour = bikes.groupby([(bikes.index.year),(bikes.index.hour)]).mean()\n",
    "highest_hour.index.names = ['Year','Hour']\n",
    "highest_hour"
   ]
  },
  {
   "cell_type": "code",
   "execution_count": 79,
   "metadata": {},
   "outputs": [
    {
     "data": {
      "image/png": "[encoded data removed]",
      "text/plain": [
       "<Figure size 432x288 with 1 Axes>"
      ]
     },
     "metadata": {
      "needs_background": "light"
     },
     "output_type": "display_data"
    },
    {
     "data": {
      "image/png": "[encoded data removed]",
      "text/plain": [
       "<Figure size 432x288 with 3 Axes>"
      ]
     },
     "metadata": {
      "needs_background": "light"
     },
     "output_type": "display_data"
    }
   ],
   "source": [
    "highest_hour.plot.line()\n",
    "axes = highest_hour.plot.line(subplots=True)"
   ]
  },
  {
   "cell_type": "markdown",
   "metadata": {},
   "source": [
    "When is best to ride with less people between 10 to 15 in weekdays using the average of 2019?"
   ]
  },
  {
   "cell_type": "code",
   "execution_count": 108,
   "metadata": {},
   "outputs": [
    {
     "data": {
      "text/plain": [
       "array(['Weekday', 'Weekday', 'Weekday', ..., 'Weekday', 'Weekday',\n",
       "       'Weekday'], dtype='<U7')"
      ]
     },
     "execution_count": 108,
     "metadata": {},
     "output_type": "execute_result"
    }
   ],
   "source": [
    "weekend = np.where(bikes.index.weekday < 5, 'Weekday', 'Weekend')\n",
    "weekend\n",
    "#by_time = bikes.groupby([weekend, bikes.index.time]).mean()\n",
    "#by_time"
   ]
  },
  {
   "cell_type": "code",
   "execution_count": 142,
   "metadata": {},
   "outputs": [
    {
     "data": {
      "text/html": [
       "<div>\n",
       "<style scoped>\n",
       "    .dataframe tbody tr th:only-of-type {\n",
       "        vertical-align: middle;\n",
       "    }\n",
       "\n",
       "    .dataframe tbody tr th {\n",
       "        vertical-align: top;\n",
       "    }\n",
       "\n",
       "    .dataframe thead th {\n",
       "        text-align: right;\n",
       "    }\n",
       "</style>\n",
       "<table border=\"1\" class=\"dataframe\">\n",
       "  <thead>\n",
       "    <tr style=\"text-align: right;\">\n",
       "      <th></th>\n",
       "      <th></th>\n",
       "      <th></th>\n",
       "      <th>East</th>\n",
       "      <th>West</th>\n",
       "      <th>Total</th>\n",
       "    </tr>\n",
       "    <tr>\n",
       "      <th>Year</th>\n",
       "      <th>Weekday</th>\n",
       "      <th>Hour</th>\n",
       "      <th></th>\n",
       "      <th></th>\n",
       "      <th></th>\n",
       "    </tr>\n",
       "  </thead>\n",
       "  <tbody>\n",
       "    <tr>\n",
       "      <td rowspan=\"30\" valign=\"top\">2019</td>\n",
       "      <td rowspan=\"6\" valign=\"top\">0</td>\n",
       "      <td>10</td>\n",
       "      <td>55.666667</td>\n",
       "      <td>73.589744</td>\n",
       "      <td>129.256410</td>\n",
       "    </tr>\n",
       "    <tr>\n",
       "      <td>11</td>\n",
       "      <td>42.794872</td>\n",
       "      <td>54.128205</td>\n",
       "      <td>96.923077</td>\n",
       "    </tr>\n",
       "    <tr>\n",
       "      <td>12</td>\n",
       "      <td>44.025641</td>\n",
       "      <td>54.641026</td>\n",
       "      <td>98.666667</td>\n",
       "    </tr>\n",
       "    <tr>\n",
       "      <td>13</td>\n",
       "      <td>46.717949</td>\n",
       "      <td>58.871795</td>\n",
       "      <td>105.589744</td>\n",
       "    </tr>\n",
       "    <tr>\n",
       "      <td>14</td>\n",
       "      <td>49.717949</td>\n",
       "      <td>68.794872</td>\n",
       "      <td>118.512821</td>\n",
       "    </tr>\n",
       "    <tr>\n",
       "      <td>15</td>\n",
       "      <td>69.256410</td>\n",
       "      <td>107.948718</td>\n",
       "      <td>177.205128</td>\n",
       "    </tr>\n",
       "    <tr>\n",
       "      <td rowspan=\"6\" valign=\"top\">1</td>\n",
       "      <td>10</td>\n",
       "      <td>52.051282</td>\n",
       "      <td>69.333333</td>\n",
       "      <td>121.384615</td>\n",
       "    </tr>\n",
       "    <tr>\n",
       "      <td>11</td>\n",
       "      <td>41.076923</td>\n",
       "      <td>46.256410</td>\n",
       "      <td>87.333333</td>\n",
       "    </tr>\n",
       "    <tr>\n",
       "      <td>12</td>\n",
       "      <td>42.846154</td>\n",
       "      <td>50.589744</td>\n",
       "      <td>93.435897</td>\n",
       "    </tr>\n",
       "    <tr>\n",
       "      <td>13</td>\n",
       "      <td>41.179487</td>\n",
       "      <td>55.717949</td>\n",
       "      <td>96.897436</td>\n",
       "    </tr>\n",
       "    <tr>\n",
       "      <td>14</td>\n",
       "      <td>42.948718</td>\n",
       "      <td>64.230769</td>\n",
       "      <td>107.179487</td>\n",
       "    </tr>\n",
       "    <tr>\n",
       "      <td>15</td>\n",
       "      <td>59.974359</td>\n",
       "      <td>104.769231</td>\n",
       "      <td>164.743590</td>\n",
       "    </tr>\n",
       "    <tr>\n",
       "      <td rowspan=\"6\" valign=\"top\">2</td>\n",
       "      <td>10</td>\n",
       "      <td>52.615385</td>\n",
       "      <td>73.538462</td>\n",
       "      <td>126.153846</td>\n",
       "    </tr>\n",
       "    <tr>\n",
       "      <td>11</td>\n",
       "      <td>40.615385</td>\n",
       "      <td>51.615385</td>\n",
       "      <td>92.230769</td>\n",
       "    </tr>\n",
       "    <tr>\n",
       "      <td>12</td>\n",
       "      <td>42.974359</td>\n",
       "      <td>54.179487</td>\n",
       "      <td>97.153846</td>\n",
       "    </tr>\n",
       "    <tr>\n",
       "      <td>13</td>\n",
       "      <td>42.769231</td>\n",
       "      <td>52.384615</td>\n",
       "      <td>95.153846</td>\n",
       "    </tr>\n",
       "    <tr>\n",
       "      <td>14</td>\n",
       "      <td>41.282051</td>\n",
       "      <td>66.051282</td>\n",
       "      <td>107.333333</td>\n",
       "    </tr>\n",
       "    <tr>\n",
       "      <td>15</td>\n",
       "      <td>63.461538</td>\n",
       "      <td>107.076923</td>\n",
       "      <td>170.538462</td>\n",
       "    </tr>\n",
       "    <tr>\n",
       "      <td rowspan=\"6\" valign=\"top\">3</td>\n",
       "      <td>10</td>\n",
       "      <td>55.641026</td>\n",
       "      <td>75.923077</td>\n",
       "      <td>131.564103</td>\n",
       "    </tr>\n",
       "    <tr>\n",
       "      <td>11</td>\n",
       "      <td>48.820513</td>\n",
       "      <td>59.256410</td>\n",
       "      <td>108.076923</td>\n",
       "    </tr>\n",
       "    <tr>\n",
       "      <td>12</td>\n",
       "      <td>46.666667</td>\n",
       "      <td>58.307692</td>\n",
       "      <td>104.974359</td>\n",
       "    </tr>\n",
       "    <tr>\n",
       "      <td>13</td>\n",
       "      <td>49.538462</td>\n",
       "      <td>60.487179</td>\n",
       "      <td>110.025641</td>\n",
       "    </tr>\n",
       "    <tr>\n",
       "      <td>14</td>\n",
       "      <td>49.153846</td>\n",
       "      <td>72.025641</td>\n",
       "      <td>121.179487</td>\n",
       "    </tr>\n",
       "    <tr>\n",
       "      <td>15</td>\n",
       "      <td>65.256410</td>\n",
       "      <td>111.615385</td>\n",
       "      <td>176.871795</td>\n",
       "    </tr>\n",
       "    <tr>\n",
       "      <td rowspan=\"6\" valign=\"top\">4</td>\n",
       "      <td>10</td>\n",
       "      <td>50.230769</td>\n",
       "      <td>69.461538</td>\n",
       "      <td>119.692308</td>\n",
       "    </tr>\n",
       "    <tr>\n",
       "      <td>11</td>\n",
       "      <td>45.666667</td>\n",
       "      <td>56.384615</td>\n",
       "      <td>102.051282</td>\n",
       "    </tr>\n",
       "    <tr>\n",
       "      <td>12</td>\n",
       "      <td>43.589744</td>\n",
       "      <td>62.333333</td>\n",
       "      <td>105.923077</td>\n",
       "    </tr>\n",
       "    <tr>\n",
       "      <td>13</td>\n",
       "      <td>48.846154</td>\n",
       "      <td>68.820513</td>\n",
       "      <td>117.666667</td>\n",
       "    </tr>\n",
       "    <tr>\n",
       "      <td>14</td>\n",
       "      <td>51.743590</td>\n",
       "      <td>82.076923</td>\n",
       "      <td>133.820513</td>\n",
       "    </tr>\n",
       "    <tr>\n",
       "      <td>15</td>\n",
       "      <td>71.179487</td>\n",
       "      <td>135.538462</td>\n",
       "      <td>206.717949</td>\n",
       "    </tr>\n",
       "  </tbody>\n",
       "</table>\n",
       "</div>"
      ],
      "text/plain": [
       "                        East        West       Total\n",
       "Year Weekday Hour                                   \n",
       "2019 0       10    55.666667   73.589744  129.256410\n",
       "             11    42.794872   54.128205   96.923077\n",
       "             12    44.025641   54.641026   98.666667\n",
       "             13    46.717949   58.871795  105.589744\n",
       "             14    49.717949   68.794872  118.512821\n",
       "             15    69.256410  107.948718  177.205128\n",
       "     1       10    52.051282   69.333333  121.384615\n",
       "             11    41.076923   46.256410   87.333333\n",
       "             12    42.846154   50.589744   93.435897\n",
       "             13    41.179487   55.717949   96.897436\n",
       "             14    42.948718   64.230769  107.179487\n",
       "             15    59.974359  104.769231  164.743590\n",
       "     2       10    52.615385   73.538462  126.153846\n",
       "             11    40.615385   51.615385   92.230769\n",
       "             12    42.974359   54.179487   97.153846\n",
       "             13    42.769231   52.384615   95.153846\n",
       "             14    41.282051   66.051282  107.333333\n",
       "             15    63.461538  107.076923  170.538462\n",
       "     3       10    55.641026   75.923077  131.564103\n",
       "             11    48.820513   59.256410  108.076923\n",
       "             12    46.666667   58.307692  104.974359\n",
       "             13    49.538462   60.487179  110.025641\n",
       "             14    49.153846   72.025641  121.179487\n",
       "             15    65.256410  111.615385  176.871795\n",
       "     4       10    50.230769   69.461538  119.692308\n",
       "             11    45.666667   56.384615  102.051282\n",
       "             12    43.589744   62.333333  105.923077\n",
       "             13    48.846154   68.820513  117.666667\n",
       "             14    51.743590   82.076923  133.820513\n",
       "             15    71.179487  135.538462  206.717949"
      ]
     },
     "execution_count": 142,
     "metadata": {},
     "output_type": "execute_result"
    }
   ],
   "source": [
    "bikes_2019 = bikes.groupby([(bikes.index.year), (bikes.index.weekday), (bikes.index.hour)]).mean()\n",
    "bikes_2019.index.names = ['Year', 'Weekday', 'Hour']\n",
    "new_bikes = bikes_2019[bikes_2019.index.get_level_values('Year') ==2019]\n",
    "new_bikes_2 = new_bikes[new_bikes.index.get_level_values('Weekday').isin([0,1,2,3,4])]\n",
    "new_bikes_3 = new_bikes_2[new_bikes_2.index.get_level_values('Hour').isin([10,11,12,13,14,15])]\n",
    "new_bikes_3"
   ]
  },
  {
   "cell_type": "code",
   "execution_count": 144,
   "metadata": {},
   "outputs": [
    {
     "data": {
      "text/html": [
       "<div>\n",
       "<style scoped>\n",
       "    .dataframe tbody tr th:only-of-type {\n",
       "        vertical-align: middle;\n",
       "    }\n",
       "\n",
       "    .dataframe tbody tr th {\n",
       "        vertical-align: top;\n",
       "    }\n",
       "\n",
       "    .dataframe thead th {\n",
       "        text-align: right;\n",
       "    }\n",
       "</style>\n",
       "<table border=\"1\" class=\"dataframe\">\n",
       "  <thead>\n",
       "    <tr style=\"text-align: right;\">\n",
       "      <th></th>\n",
       "      <th>East</th>\n",
       "      <th>West</th>\n",
       "      <th>Total</th>\n",
       "    </tr>\n",
       "    <tr>\n",
       "      <th>Hour</th>\n",
       "      <th></th>\n",
       "      <th></th>\n",
       "      <th></th>\n",
       "    </tr>\n",
       "  </thead>\n",
       "  <tbody>\n",
       "    <tr>\n",
       "      <td>10</td>\n",
       "      <td>53.241026</td>\n",
       "      <td>72.369231</td>\n",
       "      <td>125.610256</td>\n",
       "    </tr>\n",
       "    <tr>\n",
       "      <td>11</td>\n",
       "      <td>43.794872</td>\n",
       "      <td>53.528205</td>\n",
       "      <td>97.323077</td>\n",
       "    </tr>\n",
       "    <tr>\n",
       "      <td>12</td>\n",
       "      <td>44.020513</td>\n",
       "      <td>56.010256</td>\n",
       "      <td>100.030769</td>\n",
       "    </tr>\n",
       "    <tr>\n",
       "      <td>13</td>\n",
       "      <td>45.810256</td>\n",
       "      <td>59.256410</td>\n",
       "      <td>105.066667</td>\n",
       "    </tr>\n",
       "    <tr>\n",
       "      <td>14</td>\n",
       "      <td>46.969231</td>\n",
       "      <td>70.635897</td>\n",
       "      <td>117.605128</td>\n",
       "    </tr>\n",
       "    <tr>\n",
       "      <td>15</td>\n",
       "      <td>65.825641</td>\n",
       "      <td>113.389744</td>\n",
       "      <td>179.215385</td>\n",
       "    </tr>\n",
       "  </tbody>\n",
       "</table>\n",
       "</div>"
      ],
      "text/plain": [
       "           East        West       Total\n",
       "Hour                                   \n",
       "10    53.241026   72.369231  125.610256\n",
       "11    43.794872   53.528205   97.323077\n",
       "12    44.020513   56.010256  100.030769\n",
       "13    45.810256   59.256410  105.066667\n",
       "14    46.969231   70.635897  117.605128\n",
       "15    65.825641  113.389744  179.215385"
      ]
     },
     "execution_count": 144,
     "metadata": {},
     "output_type": "execute_result"
    }
   ],
   "source": [
    "hour_2019 = new_bikes_3.groupby(['Hour']).mean()\n",
    "hour_2019"
   ]
  },
  {
   "cell_type": "code",
   "execution_count": 145,
   "metadata": {},
   "outputs": [
    {
     "data": {
      "text/plain": [
       "<matplotlib.axes._subplots.AxesSubplot at 0x121ce5048>"
      ]
     },
     "execution_count": 145,
     "metadata": {},
     "output_type": "execute_result"
    },
    {
     "data": {
      "image/png": "[encoded data removed]",
      "text/plain": [
       "<Figure size 432x288 with 1 Axes>"
      ]
     },
     "metadata": {
      "needs_background": "light"
     },
     "output_type": "display_data"
    }
   ],
   "source": [
    "new_bikes_3.plot.bar()"
   ]
  },
  {
   "cell_type": "code",
   "execution_count": 147,
   "metadata": {},
   "outputs": [
    {
     "data": {
      "text/plain": [
       "<matplotlib.axes._subplots.AxesSubplot at 0x120575208>"
      ]
     },
     "execution_count": 147,
     "metadata": {},
     "output_type": "execute_result"
    },
    {
     "data": {
      "image/png": "[encoded data removed]",
      "text/plain": [
       "<Figure size 432x288 with 1 Axes>"
      ]
     },
     "metadata": {
      "needs_background": "light"
     },
     "output_type": "display_data"
    }
   ],
   "source": [
    "hour_2019.plot.line()"
   ]
  },
  {
   "cell_type": "code",
   "execution_count": null,
   "metadata": {},
   "outputs": [],
   "source": []
  },
  {
   "cell_type": "markdown",
   "metadata": {
    "colab_type": "text",
    "id": "kRIP0xZeYrvn"
   },
   "source": [
    "# Exercise 3: SQLite and Pandas [OBLIGATORY]\n",
    "\n",
    "Download [this Sqlite database](https://github.com/vfp1/bts-mbds-data-science-foundations-2019/raw/master/sessions/data/flights.db)\n",
    "\n",
    "You can either use SQLite database entirely or load the SQL query in Pandas to reply to the following questions:\n",
    "\n",
    "*   Which is the highest city that as an airport?\n",
    "*   And which is the lowest city that as an airport?\n",
    "*   Retrieve the timezones and generate a dataframe with the timezones and the amount of airports in them. Plot it as a histogram as well.\n",
    "*   Which country has more airlines? And which one has less?\n",
    "*   Which city has the most outgoing destinations? And the least?\n",
    "*   And which city has the most incoming destinations? And the least?\n",
    "\n"
   ]
  },
  {
   "cell_type": "markdown",
   "metadata": {
    "colab": {},
    "colab_type": "code",
    "id": "pScF0XDi0ps3"
   },
   "source": [
    "### Which is the highest city that as an airport?"
   ]
  },
  {
   "cell_type": "code",
   "execution_count": 157,
   "metadata": {},
   "outputs": [],
   "source": [
    "import sqlite3\n",
    "import time\n",
    "import datetime\n",
    "import random\n",
    "import pandas as pd\n",
    "import geopandas as gpd\n",
    "import matplotlib.pyplot as plt\n",
    "from matplotlib import style\n",
    "from pandas.plotting import register_matplotlib_converters\n",
    "import numpy as np\n",
    "import matplotlib.pyplot as plt\n",
    "import matplotlib.ticker as ticker\n",
    "import shutil\n",
    "import time\n",
    "import os\n"
   ]
  },
  {
   "cell_type": "code",
   "execution_count": 159,
   "metadata": {},
   "outputs": [],
   "source": [
    "import sqlite3\n",
    "\n",
    "def create_connect_database(db_name):\n",
    "    \"\"\"Opens connection or creates it if it is not existent\"\"\"\n",
    "    connection = sqlite3.connect(db_name)\n",
    "    cursor = connection.cursor()\n",
    "    \n",
    "    return connection, cursor\n",
    "\n",
    "def commit_close(connection, c, close_connection=True):\n",
    "    \"\"\"Commits to connection DB and closes it if close is True\"\"\"\n",
    "    connection.commit()\n",
    "\n",
    "    if close_connection is True:\n",
    "        c.close()\n",
    "        connection.close()\n",
    "    elif close_connection is False:\n",
    "        pass"
   ]
  },
  {
   "cell_type": "code",
   "execution_count": 153,
   "metadata": {},
   "outputs": [
    {
     "data": {
      "text/plain": [
       "'/Users/MarcelRos/Desktop/BTS/Data_Science_Foundations/Assignments'"
      ]
     },
     "execution_count": 153,
     "metadata": {},
     "output_type": "execute_result"
    }
   ],
   "source": [
    "os.getcwd()"
   ]
  },
  {
   "cell_type": "code",
   "execution_count": 205,
   "metadata": {},
   "outputs": [
    {
     "name": "stdout",
     "output_type": "stream",
     "text": [
      "[('airports',), ('airlines',), ('routes',)]\n"
     ]
    }
   ],
   "source": [
    "connection, cursor = create_connect_database('/Users/MarcelRos/Desktop/BTS/GitHub/bts-mbds-data-science-foundations-2019/sessions/data/flights.db')\n",
    "\n",
    "cursor.execute(\"SELECT name FROM SQLite_master WHERE type='table';\")\n",
    "tables = cursor.fetchall()\n",
    "print(tables)"
   ]
  },
  {
   "cell_type": "code",
   "execution_count": 208,
   "metadata": {},
   "outputs": [
    {
     "data": {
      "text/html": [
       "<div>\n",
       "<style scoped>\n",
       "    .dataframe tbody tr th:only-of-type {\n",
       "        vertical-align: middle;\n",
       "    }\n",
       "\n",
       "    .dataframe tbody tr th {\n",
       "        vertical-align: top;\n",
       "    }\n",
       "\n",
       "    .dataframe thead th {\n",
       "        text-align: right;\n",
       "    }\n",
       "</style>\n",
       "<table border=\"1\" class=\"dataframe\">\n",
       "  <thead>\n",
       "    <tr style=\"text-align: right;\">\n",
       "      <th></th>\n",
       "      <th>city</th>\n",
       "      <th>altitude_2</th>\n",
       "    </tr>\n",
       "  </thead>\n",
       "  <tbody>\n",
       "    <tr>\n",
       "      <td>0</td>\n",
       "      <td>Daocheng</td>\n",
       "      <td>14472</td>\n",
       "    </tr>\n",
       "    <tr>\n",
       "      <td>1</td>\n",
       "      <td>Bangda</td>\n",
       "      <td>14219</td>\n",
       "    </tr>\n",
       "    <tr>\n",
       "      <td>2</td>\n",
       "      <td>Kangding</td>\n",
       "      <td>14042</td>\n",
       "    </tr>\n",
       "    <tr>\n",
       "      <td>3</td>\n",
       "      <td>Shiquanhe</td>\n",
       "      <td>13780</td>\n",
       "    </tr>\n",
       "    <tr>\n",
       "      <td>4</td>\n",
       "      <td>Irkutsk</td>\n",
       "      <td>13411</td>\n",
       "    </tr>\n",
       "  </tbody>\n",
       "</table>\n",
       "</div>"
      ],
      "text/plain": [
       "        city  altitude_2\n",
       "0   Daocheng       14472\n",
       "1     Bangda       14219\n",
       "2   Kangding       14042\n",
       "3  Shiquanhe       13780\n",
       "4    Irkutsk       13411"
      ]
     },
     "execution_count": 208,
     "metadata": {},
     "output_type": "execute_result"
    }
   ],
   "source": [
    "airports = \"SELECT city, CAST(airports.altitude AS INTEGER) as altitude_2 FROM airports ORDER BY altitude_2 DESC;\"\n",
    "airports = pd.read_sql_query(airports, connection)\n",
    "airports.head()"
   ]
  },
  {
   "cell_type": "code",
   "execution_count": 207,
   "metadata": {},
   "outputs": [
    {
     "data": {
      "text/plain": [
       "city          Daocheng\n",
       "altitude_2       14472\n",
       "Name: 0, dtype: object"
      ]
     },
     "execution_count": 207,
     "metadata": {},
     "output_type": "execute_result"
    }
   ],
   "source": [
    "airports = \"SELECT city, CAST(airports.altitude AS INTEGER) as altitude_2 FROM airports ORDER BY altitude_2 DESC;\"\n",
    "airports = pd.read_sql_query(airports, connection)\n",
    "airports_highest = airports.loc[airports['altitude_2'].idxmax()]\n",
    "airports_highest"
   ]
  },
  {
   "cell_type": "markdown",
   "metadata": {},
   "source": [
    "### And which is the lowest city that as an airport?"
   ]
  },
  {
   "cell_type": "code",
   "execution_count": 211,
   "metadata": {},
   "outputs": [
    {
     "data": {
      "text/html": [
       "<div>\n",
       "<style scoped>\n",
       "    .dataframe tbody tr th:only-of-type {\n",
       "        vertical-align: middle;\n",
       "    }\n",
       "\n",
       "    .dataframe tbody tr th {\n",
       "        vertical-align: top;\n",
       "    }\n",
       "\n",
       "    .dataframe thead th {\n",
       "        text-align: right;\n",
       "    }\n",
       "</style>\n",
       "<table border=\"1\" class=\"dataframe\">\n",
       "  <thead>\n",
       "    <tr style=\"text-align: right;\">\n",
       "      <th></th>\n",
       "      <th>city</th>\n",
       "      <th>altitude_2</th>\n",
       "    </tr>\n",
       "  </thead>\n",
       "  <tbody>\n",
       "    <tr>\n",
       "      <td>0</td>\n",
       "      <td>Metzada</td>\n",
       "      <td>-1266</td>\n",
       "    </tr>\n",
       "    <tr>\n",
       "      <td>1</td>\n",
       "      <td>Eyn-yahav</td>\n",
       "      <td>-164</td>\n",
       "    </tr>\n",
       "    <tr>\n",
       "      <td>2</td>\n",
       "      <td>Ramsar</td>\n",
       "      <td>-70</td>\n",
       "    </tr>\n",
       "    <tr>\n",
       "      <td>3</td>\n",
       "      <td>Astrakhan</td>\n",
       "      <td>-65</td>\n",
       "    </tr>\n",
       "    <tr>\n",
       "      <td>4</td>\n",
       "      <td>Noshahr</td>\n",
       "      <td>-61</td>\n",
       "    </tr>\n",
       "    <tr>\n",
       "      <td>...</td>\n",
       "      <td>...</td>\n",
       "      <td>...</td>\n",
       "    </tr>\n",
       "    <tr>\n",
       "      <td>8102</td>\n",
       "      <td>Irkutsk</td>\n",
       "      <td>13411</td>\n",
       "    </tr>\n",
       "    <tr>\n",
       "      <td>8103</td>\n",
       "      <td>Shiquanhe</td>\n",
       "      <td>13780</td>\n",
       "    </tr>\n",
       "    <tr>\n",
       "      <td>8104</td>\n",
       "      <td>Kangding</td>\n",
       "      <td>14042</td>\n",
       "    </tr>\n",
       "    <tr>\n",
       "      <td>8105</td>\n",
       "      <td>Bangda</td>\n",
       "      <td>14219</td>\n",
       "    </tr>\n",
       "    <tr>\n",
       "      <td>8106</td>\n",
       "      <td>Daocheng</td>\n",
       "      <td>14472</td>\n",
       "    </tr>\n",
       "  </tbody>\n",
       "</table>\n",
       "<p>8107 rows × 2 columns</p>\n",
       "</div>"
      ],
      "text/plain": [
       "           city  altitude_2\n",
       "0       Metzada       -1266\n",
       "1     Eyn-yahav        -164\n",
       "2        Ramsar         -70\n",
       "3     Astrakhan         -65\n",
       "4       Noshahr         -61\n",
       "...         ...         ...\n",
       "8102    Irkutsk       13411\n",
       "8103  Shiquanhe       13780\n",
       "8104   Kangding       14042\n",
       "8105     Bangda       14219\n",
       "8106   Daocheng       14472\n",
       "\n",
       "[8107 rows x 2 columns]"
      ]
     },
     "execution_count": 211,
     "metadata": {},
     "output_type": "execute_result"
    }
   ],
   "source": [
    "airports = \"SELECT city, CAST(airports.altitude AS INTEGER) as altitude_2 FROM airports ORDER BY altitude_2 ASC;\"\n",
    "airports = pd.read_sql_query(airports, connection)\n",
    "airports"
   ]
  },
  {
   "cell_type": "code",
   "execution_count": 212,
   "metadata": {},
   "outputs": [
    {
     "data": {
      "text/plain": [
       "city          Metzada\n",
       "altitude_2      -1266\n",
       "Name: 0, dtype: object"
      ]
     },
     "execution_count": 212,
     "metadata": {},
     "output_type": "execute_result"
    }
   ],
   "source": [
    "airports = \"SELECT city, CAST(airports.altitude AS INTEGER) as altitude_2 FROM airports ORDER BY altitude_2 ASC;\"\n",
    "airports = pd.read_sql_query(airports, connection)\n",
    "airports_highest = airports.loc[airports['altitude_2'].idxmin()]\n",
    "airports_highest"
   ]
  },
  {
   "cell_type": "markdown",
   "metadata": {},
   "source": [
    "### Retrieve the timezones and generate a dataframe with the timezones and the amount of airports in them. Plot it as a histogram as well."
   ]
  },
  {
   "cell_type": "code",
   "execution_count": 221,
   "metadata": {},
   "outputs": [
    {
     "name": "stdout",
     "output_type": "stream",
     "text": [
      "(294, 2)\n"
     ]
    },
    {
     "data": {
      "text/html": [
       "<div>\n",
       "<style scoped>\n",
       "    .dataframe tbody tr th:only-of-type {\n",
       "        vertical-align: middle;\n",
       "    }\n",
       "\n",
       "    .dataframe tbody tr th {\n",
       "        vertical-align: top;\n",
       "    }\n",
       "\n",
       "    .dataframe thead th {\n",
       "        text-align: right;\n",
       "    }\n",
       "</style>\n",
       "<table border=\"1\" class=\"dataframe\">\n",
       "  <thead>\n",
       "    <tr style=\"text-align: right;\">\n",
       "      <th></th>\n",
       "      <th>timezone</th>\n",
       "      <th>COUNT(name)</th>\n",
       "    </tr>\n",
       "  </thead>\n",
       "  <tbody>\n",
       "    <tr>\n",
       "      <td>0</td>\n",
       "      <td>America/New_York</td>\n",
       "      <td>628</td>\n",
       "    </tr>\n",
       "    <tr>\n",
       "      <td>1</td>\n",
       "      <td>America/Chicago</td>\n",
       "      <td>373</td>\n",
       "    </tr>\n",
       "    <tr>\n",
       "      <td>2</td>\n",
       "      <td>Europe/Berlin</td>\n",
       "      <td>319</td>\n",
       "    </tr>\n",
       "    <tr>\n",
       "      <td>3</td>\n",
       "      <td>America/Anchorage</td>\n",
       "      <td>258</td>\n",
       "    </tr>\n",
       "    <tr>\n",
       "      <td>4</td>\n",
       "      <td>Europe/Paris</td>\n",
       "      <td>232</td>\n",
       "    </tr>\n",
       "  </tbody>\n",
       "</table>\n",
       "</div>"
      ],
      "text/plain": [
       "            timezone  COUNT(name)\n",
       "0   America/New_York          628\n",
       "1    America/Chicago          373\n",
       "2      Europe/Berlin          319\n",
       "3  America/Anchorage          258\n",
       "4       Europe/Paris          232"
      ]
     },
     "execution_count": 221,
     "metadata": {},
     "output_type": "execute_result"
    }
   ],
   "source": [
    "timezones = \"SELECT timezone, COUNT(name) FROM airports GROUP BY timezone ORDER BY COUNT(name) DESC;\"\n",
    "timezones = pd.read_sql_query(timezones, connection)\n",
    "print(timezones.shape)\n",
    "timezones.head()"
   ]
  },
  {
   "cell_type": "code",
   "execution_count": 241,
   "metadata": {},
   "outputs": [
    {
     "data": {
      "text/plain": [
       "<matplotlib.axes._subplots.AxesSubplot at 0x12962e978>"
      ]
     },
     "execution_count": 241,
     "metadata": {},
     "output_type": "execute_result"
    },
    {
     "data": {
      "image/png": "[encoded data removed]",
      "text/plain": [
       "<Figure size 432x288 with 1 Axes>"
      ]
     },
     "metadata": {
      "needs_background": "light"
     },
     "output_type": "display_data"
    }
   ],
   "source": [
    "from matplotlib.pyplot import hist\n",
    "timezones_2 = timezones.set_index('timezone').sort_index(ascending=True)\n",
    "timezones_2.plot.bar()"
   ]
  },
  {
   "cell_type": "markdown",
   "metadata": {},
   "source": [
    "### Which country has more airlines? And which one has less?"
   ]
  },
  {
   "cell_type": "code",
   "execution_count": 245,
   "metadata": {},
   "outputs": [
    {
     "data": {
      "text/html": [
       "<div>\n",
       "<style scoped>\n",
       "    .dataframe tbody tr th:only-of-type {\n",
       "        vertical-align: middle;\n",
       "    }\n",
       "\n",
       "    .dataframe tbody tr th {\n",
       "        vertical-align: top;\n",
       "    }\n",
       "\n",
       "    .dataframe thead th {\n",
       "        text-align: right;\n",
       "    }\n",
       "</style>\n",
       "<table border=\"1\" class=\"dataframe\">\n",
       "  <thead>\n",
       "    <tr style=\"text-align: right;\">\n",
       "      <th></th>\n",
       "      <th>country</th>\n",
       "      <th>Airport_Count</th>\n",
       "    </tr>\n",
       "  </thead>\n",
       "  <tbody>\n",
       "    <tr>\n",
       "      <td>0</td>\n",
       "      <td>United States</td>\n",
       "      <td>141</td>\n",
       "    </tr>\n",
       "    <tr>\n",
       "      <td>1</td>\n",
       "      <td>Russia</td>\n",
       "      <td>72</td>\n",
       "    </tr>\n",
       "    <tr>\n",
       "      <td>2</td>\n",
       "      <td>United Kingdom</td>\n",
       "      <td>40</td>\n",
       "    </tr>\n",
       "    <tr>\n",
       "      <td>3</td>\n",
       "      <td>Germany</td>\n",
       "      <td>37</td>\n",
       "    </tr>\n",
       "    <tr>\n",
       "      <td>4</td>\n",
       "      <td>Canada</td>\n",
       "      <td>34</td>\n",
       "    </tr>\n",
       "  </tbody>\n",
       "</table>\n",
       "</div>"
      ],
      "text/plain": [
       "          country  Airport_Count\n",
       "0   United States            141\n",
       "1          Russia             72\n",
       "2  United Kingdom             40\n",
       "3         Germany             37\n",
       "4          Canada             34"
      ]
     },
     "execution_count": 245,
     "metadata": {},
     "output_type": "execute_result"
    }
   ],
   "source": [
    "airlines_count = \"\"\"SELECT country, COUNT(active) AS Airport_Count\n",
    "FROM airlines \n",
    "WHERE active='Y' \n",
    "GROUP BY country \n",
    "ORDER BY COUNT(active) DESC;\n",
    "\"\"\"\n",
    "airlines_count = pd.read_sql_query(airlines_count, connection)\n",
    "airlines_count.head()"
   ]
  },
  {
   "cell_type": "code",
   "execution_count": 275,
   "metadata": {},
   "outputs": [
    {
     "data": {
      "text/html": [
       "<div>\n",
       "<style scoped>\n",
       "    .dataframe tbody tr th:only-of-type {\n",
       "        vertical-align: middle;\n",
       "    }\n",
       "\n",
       "    .dataframe tbody tr th {\n",
       "        vertical-align: top;\n",
       "    }\n",
       "\n",
       "    .dataframe thead th {\n",
       "        text-align: right;\n",
       "    }\n",
       "</style>\n",
       "<table border=\"1\" class=\"dataframe\">\n",
       "  <thead>\n",
       "    <tr style=\"text-align: right;\">\n",
       "      <th></th>\n",
       "      <th>country</th>\n",
       "      <th>Airport_Count</th>\n",
       "    </tr>\n",
       "  </thead>\n",
       "  <tbody>\n",
       "    <tr>\n",
       "      <td>0</td>\n",
       "      <td>S.A.</td>\n",
       "      <td>1</td>\n",
       "    </tr>\n",
       "    <tr>\n",
       "      <td>1</td>\n",
       "      <td>ALASKA</td>\n",
       "      <td>1</td>\n",
       "    </tr>\n",
       "    <tr>\n",
       "      <td>2</td>\n",
       "      <td>AVIANCA</td>\n",
       "      <td>1</td>\n",
       "    </tr>\n",
       "    <tr>\n",
       "      <td>3</td>\n",
       "      <td>American Samoa</td>\n",
       "      <td>1</td>\n",
       "    </tr>\n",
       "    <tr>\n",
       "      <td>4</td>\n",
       "      <td>Antigua and Barbuda</td>\n",
       "      <td>1</td>\n",
       "    </tr>\n",
       "  </tbody>\n",
       "</table>\n",
       "</div>"
      ],
      "text/plain": [
       "               country  Airport_Count\n",
       "0                 S.A.              1\n",
       "1               ALASKA              1\n",
       "2              AVIANCA              1\n",
       "3       American Samoa              1\n",
       "4  Antigua and Barbuda              1"
      ]
     },
     "execution_count": 275,
     "metadata": {},
     "output_type": "execute_result"
    }
   ],
   "source": [
    "airlines_count = \"\"\"SELECT country, COUNT(active) AS Airport_Count\n",
    "FROM airlines \n",
    "WHERE active='Y' \n",
    "GROUP BY country \n",
    "ORDER BY COUNT(active) ASC;\n",
    "\"\"\"\n",
    "airlines_count = pd.read_sql_query(airlines_count, connection)\n",
    "airlines_count.head()"
   ]
  },
  {
   "cell_type": "markdown",
   "metadata": {},
   "source": [
    "### Which city has the most outgoing destinations? And the least?"
   ]
  },
  {
   "cell_type": "code",
   "execution_count": 259,
   "metadata": {},
   "outputs": [
    {
     "data": {
      "text/html": [
       "<div>\n",
       "<style scoped>\n",
       "    .dataframe tbody tr th:only-of-type {\n",
       "        vertical-align: middle;\n",
       "    }\n",
       "\n",
       "    .dataframe tbody tr th {\n",
       "        vertical-align: top;\n",
       "    }\n",
       "\n",
       "    .dataframe thead th {\n",
       "        text-align: right;\n",
       "    }\n",
       "</style>\n",
       "<table border=\"1\" class=\"dataframe\">\n",
       "  <thead>\n",
       "    <tr style=\"text-align: right;\">\n",
       "      <th></th>\n",
       "      <th>city</th>\n",
       "      <th>dest_airport</th>\n",
       "    </tr>\n",
       "  </thead>\n",
       "  <tbody>\n",
       "    <tr>\n",
       "      <td>0</td>\n",
       "      <td>Sochi</td>\n",
       "      <td>AER</td>\n",
       "    </tr>\n",
       "    <tr>\n",
       "      <td>1</td>\n",
       "      <td>Astrakhan</td>\n",
       "      <td>ASF</td>\n",
       "    </tr>\n",
       "    <tr>\n",
       "      <td>2</td>\n",
       "      <td>Astrakhan</td>\n",
       "      <td>ASF</td>\n",
       "    </tr>\n",
       "    <tr>\n",
       "      <td>3</td>\n",
       "      <td>Chelyabinsk</td>\n",
       "      <td>CEK</td>\n",
       "    </tr>\n",
       "    <tr>\n",
       "      <td>4</td>\n",
       "      <td>Chelyabinsk</td>\n",
       "      <td>CEK</td>\n",
       "    </tr>\n",
       "  </tbody>\n",
       "</table>\n",
       "</div>"
      ],
      "text/plain": [
       "          city dest_airport\n",
       "0        Sochi          AER\n",
       "1    Astrakhan          ASF\n",
       "2    Astrakhan          ASF\n",
       "3  Chelyabinsk          CEK\n",
       "4  Chelyabinsk          CEK"
      ]
     },
     "execution_count": 259,
     "metadata": {},
     "output_type": "execute_result"
    }
   ],
   "source": [
    "outgoing =\"\"\"SELECT city,\n",
    "CAST(airports.code AS TEXT) AS dest_airport\n",
    "FROM routes \n",
    "INNER JOIN airports  \n",
    "  ON airports.code = routes.source;\"\"\"\n",
    "\n",
    "outgoing = pd.read_sql_query(outgoing, connection)\n",
    "outgoing.head()"
   ]
  },
  {
   "cell_type": "code",
   "execution_count": 260,
   "metadata": {},
   "outputs": [
    {
     "data": {
      "text/plain": [
       "London       1232\n",
       "Atlanta       915\n",
       "Paris         725\n",
       "Chicago       697\n",
       "Shanghai      616\n",
       "             ... \n",
       "Suavanao        1\n",
       "Tabatinga       1\n",
       "Maseru          1\n",
       "Pendleton       1\n",
       "Gemena          1\n",
       "Name: city, Length: 3148, dtype: int64"
      ]
     },
     "execution_count": 260,
     "metadata": {},
     "output_type": "execute_result"
    }
   ],
   "source": [
    "outgoing['city'].value_counts().sort_values(ascending=False)"
   ]
  },
  {
   "cell_type": "markdown",
   "metadata": {},
   "source": [
    "### And which city has the most incoming destinations? And the least?"
   ]
  },
  {
   "cell_type": "code",
   "execution_count": 264,
   "metadata": {},
   "outputs": [
    {
     "data": {
      "text/html": [
       "<div>\n",
       "<style scoped>\n",
       "    .dataframe tbody tr th:only-of-type {\n",
       "        vertical-align: middle;\n",
       "    }\n",
       "\n",
       "    .dataframe tbody tr th {\n",
       "        vertical-align: top;\n",
       "    }\n",
       "\n",
       "    .dataframe thead th {\n",
       "        text-align: right;\n",
       "    }\n",
       "</style>\n",
       "<table border=\"1\" class=\"dataframe\">\n",
       "  <thead>\n",
       "    <tr style=\"text-align: right;\">\n",
       "      <th></th>\n",
       "      <th>city</th>\n",
       "      <th>source_airport</th>\n",
       "    </tr>\n",
       "  </thead>\n",
       "  <tbody>\n",
       "    <tr>\n",
       "      <td>0</td>\n",
       "      <td>Kazan</td>\n",
       "      <td>KZN</td>\n",
       "    </tr>\n",
       "    <tr>\n",
       "      <td>1</td>\n",
       "      <td>Kazan</td>\n",
       "      <td>KZN</td>\n",
       "    </tr>\n",
       "    <tr>\n",
       "      <td>2</td>\n",
       "      <td>Mineralnye Vody</td>\n",
       "      <td>MRV</td>\n",
       "    </tr>\n",
       "    <tr>\n",
       "      <td>3</td>\n",
       "      <td>Kazan</td>\n",
       "      <td>KZN</td>\n",
       "    </tr>\n",
       "    <tr>\n",
       "      <td>4</td>\n",
       "      <td>Novosibirsk</td>\n",
       "      <td>OVB</td>\n",
       "    </tr>\n",
       "  </tbody>\n",
       "</table>\n",
       "</div>"
      ],
      "text/plain": [
       "              city source_airport\n",
       "0            Kazan            KZN\n",
       "1            Kazan            KZN\n",
       "2  Mineralnye Vody            MRV\n",
       "3            Kazan            KZN\n",
       "4      Novosibirsk            OVB"
      ]
     },
     "execution_count": 264,
     "metadata": {},
     "output_type": "execute_result"
    }
   ],
   "source": [
    "incoming =\"\"\"SELECT city,\n",
    "CAST(airports.code AS TEXT) AS source_airport\n",
    "FROM routes \n",
    "INNER JOIN airports  \n",
    "  ON airports.code = routes.dest;\"\"\"\n",
    "\n",
    "incoming = pd.read_sql_query(incoming, connection)\n",
    "incoming.head()"
   ]
  },
  {
   "cell_type": "code",
   "execution_count": 280,
   "metadata": {},
   "outputs": [
    {
     "data": {
      "text/plain": [
       "London      1224\n",
       "Atlanta      911\n",
       "Paris        720\n",
       "Chicago      682\n",
       "Shanghai     620\n",
       "Name: city, dtype: int64"
      ]
     },
     "execution_count": 280,
     "metadata": {},
     "output_type": "execute_result"
    }
   ],
   "source": [
    "incoming_asc = incoming['city'].value_counts().sort_values(ascending=False)\n",
    "incoming_asc.head()"
   ]
  },
  {
   "cell_type": "code",
   "execution_count": 279,
   "metadata": {},
   "outputs": [
    {
     "data": {
      "text/plain": [
       "Gemena      1\n",
       "Arua        1\n",
       "Hamadan     1\n",
       "Tainan      1\n",
       "Mayaguez    1\n",
       "Name: city, dtype: int64"
      ]
     },
     "execution_count": 279,
     "metadata": {},
     "output_type": "execute_result"
    }
   ],
   "source": [
    "incoming_desc = incoming['city'].value_counts().sort_values(ascending=True)\n",
    "incoming_desc.head()"
   ]
  },
  {
   "cell_type": "code",
   "execution_count": null,
   "metadata": {},
   "outputs": [],
   "source": []
  }
 ],
 "metadata": {
  "colab": {
   "collapsed_sections": [],
   "name": "DSF_WEEK_2_EXERCISES.ipynb",
   "provenance": []
  },
  "kernelspec": {
   "display_name": "Python 3",
   "language": "python",
   "name": "python3"
  },
  "language_info": {
   "codemirror_mode": {
    "name": "ipython",
    "version": 3
   },
   "file_extension": ".py",
   "mimetype": "text/x-python",
   "name": "python",
   "nbconvert_exporter": "python",
   "pygments_lexer": "ipython3",
   "version": "3.6.7"
  }
 },
 "nbformat": 4,
 "nbformat_minor": 1
}
